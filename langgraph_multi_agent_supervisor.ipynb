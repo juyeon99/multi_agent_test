{
 "cells": [
  {
   "cell_type": "code",
   "execution_count": null,
   "metadata": {},
   "outputs": [],
   "source": [
    "# Ref: https://www.youtube.com/watch?v=98nVdepA42s\n",
    "#      https://langchain-ai.github.io/langgraph/tutorials/multi_agent/agent_supervisor/"
   ]
  },
  {
   "cell_type": "code",
   "execution_count": 1,
   "metadata": {},
   "outputs": [
    {
     "data": {
      "text/plain": [
       "True"
      ]
     },
     "execution_count": 1,
     "metadata": {},
     "output_type": "execute_result"
    }
   ],
   "source": [
    "import os, dotenv\n",
    "\n",
    "dotenv.load_dotenv()"
   ]
  },
  {
   "cell_type": "code",
   "execution_count": 2,
   "metadata": {},
   "outputs": [],
   "source": [
    "from typing import Annotated\n",
    "from langchain_community.tools.tavily_search import TavilySearchResults\n",
    "from langchain_experimental.tools import PythonREPLTool\n",
    "\n",
    "tavily_tool = TavilySearchResults(max_results=5)\n",
    "\n",
    "# This executes code locally, which can be unsafe\n",
    "python_repl_tool = PythonREPLTool()"
   ]
  },
  {
   "cell_type": "code",
   "execution_count": 3,
   "metadata": {},
   "outputs": [],
   "source": [
    "from langchain_core.messages import HumanMessage\n",
    "\n",
    "def agent_node(state, agent, name):\n",
    "    result = agent.invoke(state)\n",
    "    return {\"messages\":[HumanMessage(content=result[\"messages\"][-1].content, name=name)]}"
   ]
  },
  {
   "cell_type": "code",
   "execution_count": 5,
   "metadata": {},
   "outputs": [],
   "source": [
    "# Create Agent Supervisor\n",
    "from langchain_core.prompts import ChatPromptTemplate, MessagesPlaceholder\n",
    "from langchain_openai import ChatOpenAI\n",
    "from enum import Enum\n",
    "from pydantic import BaseModel\n",
    "from typing import Literal\n",
    "\n",
    "members = [\"Researcher\", \"Coder\"]\n",
    "system_prompt = (\n",
    "    \"You are a supervisor tasked with managing a conversation between the\"\n",
    "    f\" following workers: {members}. Given the following user request,\"\n",
    "    \" respond with the worker to act next. Each worker will perform a\"\n",
    "    \" task and respond with their results and status. When finished,\"\n",
    "    \" respond with FINISH.\"\n",
    ")\n",
    "\n",
    "# Our team supervisor is an LLM node. It just picks the next agent to process and decide when the work is completed\n",
    "options = [\"FINISH\"] + members\n",
    "class routeResponse(BaseModel):\n",
    "    next: Literal[\"FINISH\", \"Researcher\", \"Coder\"]\n",
    "\n",
    "prompt = ChatPromptTemplate.from_messages(\n",
    "    [\n",
    "        (\"system\", system_prompt),\n",
    "        MessagesPlaceholder(variable_name=\"messages\"),\n",
    "        (\n",
    "            \"system\",\n",
    "            \"Given the conversation above, who should act next?\"\n",
    "            \" Or should we FINISH? Select one of: {options}\"\n",
    "        )\n",
    "    ]\n",
    ").partial(options=str(options), members=\", \".join(members))\n",
    "\n",
    "llm = ChatOpenAI(model=\"gpt-4o\")\n",
    "\n",
    "def supervisor_agent(state):\n",
    "    supervisor_chain = (\n",
    "        prompt\n",
    "        | llm.with_structured_output(routeResponse)\n",
    "    )\n",
    "    return supervisor_chain.invoke(state)"
   ]
  },
  {
   "cell_type": "code",
   "execution_count": 7,
   "metadata": {},
   "outputs": [
    {
     "data": {
      "text/plain": [
       "<langgraph.graph.state.StateGraph at 0x1c98cf5b800>"
      ]
     },
     "execution_count": 7,
     "metadata": {},
     "output_type": "execute_result"
    }
   ],
   "source": [
    "import functools, operator\n",
    "from typing import Sequence, TypedDict\n",
    "from langgraph.graph import START, StateGraph, END\n",
    "from langgraph.prebuilt import create_react_agent\n",
    "from langchain_core.messages import BaseMessage\n",
    "\n",
    "class AgentState(TypedDict):\n",
    "    messages: Annotated[Sequence[BaseMessage], operator.add]\n",
    "    next: str\n",
    "\n",
    "research_agent = create_react_agent(llm, tools=[tavily_tool])\n",
    "research_node = functools.partial(agent_node, agent=research_agent, name=\"Researcher\")\n",
    "\n",
    "code_agent = create_react_agent(llm, tools=[python_repl_tool])\n",
    "code_node = functools.partial(agent_node, agent=code_agent, name=\"Coder\")\n",
    "\n",
    "workflow = StateGraph(AgentState)\n",
    "workflow.add_node(\"Researcher\", research_node)\n",
    "workflow.add_node(\"Coder\", code_node)\n",
    "workflow.add_node(\"supervisor\", supervisor_agent)"
   ]
  },
  {
   "cell_type": "code",
   "execution_count": 8,
   "metadata": {},
   "outputs": [],
   "source": [
    "for member in members:\n",
    "    workflow.add_edge(member, \"supervisor\")\n",
    "\n",
    "conditional_map = {k: k for k in members}\n",
    "conditional_map[\"FINISH\"] = END\n",
    "workflow.add_conditional_edges(\"supervisor\", lambda x: x[\"next\"], conditional_map)\n",
    "workflow.add_edge(START, \"supervisor\")\n",
    "\n",
    "graph = workflow.compile()"
   ]
  },
  {
   "cell_type": "code",
   "execution_count": 9,
   "metadata": {},
   "outputs": [
    {
     "data": {
      "image/png": "[encoded data removed]",
      "text/plain": [
       "<IPython.core.display.Image object>"
      ]
     },
     "metadata": {},
     "output_type": "display_data"
    }
   ],
   "source": [
    "from IPython.display import Image, display\n",
    "\n",
    "try:\n",
    "    display(\n",
    "        Image(\n",
    "            graph.get_graph(xray=True).draw_mermaid_png(\n",
    "                output_file_path=\"./supervisor.png\"\n",
    "            )\n",
    "        )\n",
    "    )\n",
    "except Exception:\n",
    "    pass"
   ]
  },
  {
   "cell_type": "code",
   "execution_count": 10,
   "metadata": {},
   "outputs": [
    {
     "name": "stdout",
     "output_type": "stream",
     "text": [
      "{'supervisor': {'next': 'Coder'}}\n",
      "----\n"
     ]
    },
    {
     "name": "stderr",
     "output_type": "stream",
     "text": [
      "Python REPL can execute arbitrary code. Use with caution.\n"
     ]
    },
    {
     "name": "stdout",
     "output_type": "stream",
     "text": [
      "{'Coder': {'messages': [HumanMessage(content='Here\\'s a simple Python code to print \"Hello, World!\" to the terminal:\\n\\n```python\\nprint(\\'Hello, World!\\')\\n```\\n\\nWhen you run this code, it will output:\\n\\n```\\nHello, World!\\n```', additional_kwargs={}, response_metadata={}, name='Coder')]}}\n",
      "----\n",
      "{'supervisor': {'next': 'FINISH'}}\n",
      "----\n"
     ]
    }
   ],
   "source": [
    "for s in graph.stream(\n",
    "    {\n",
    "        \"messages\":[\n",
    "            HumanMessage(content=\"Code hello world and print it to the terminal\")\n",
    "        ]\n",
    "    }\n",
    "):\n",
    "    if \"__end__\" not in s:\n",
    "        print(s)\n",
    "        print(\"----\")"
   ]
  },
  {
   "cell_type": "code",
   "execution_count": 11,
   "metadata": {},
   "outputs": [
    {
     "name": "stdout",
     "output_type": "stream",
     "text": [
      "{'supervisor': {'next': 'Researcher'}}\n",
      "----\n",
      "{'Researcher': {'messages': [HumanMessage(content='**Research Report on BTS in 2023**\\n\\nBTS, the globally renowned South Korean boy band, continued to capture significant attention in 2023, despite being on a hiatus for mandatory South Korean military service. The seven-member group celebrated their 10th anniversary this year, a testament to their enduring popularity and influence in the music industry.\\n\\n### Key Developments in 2023:\\n\\n1. **10th Anniversary Celebrations:**\\n   BTS celebrated their 10th anniversary with the \"BTS Festa 2023,\" a large-scale festival held across Seoul in collaboration with the Seoul Metropolitan Government. This event demonstrated BTS\\'s sustained popularity and cultural impact, despite the members\\' ongoing hiatus.\\n\\n2. **Military Service:**\\n   As of 2023, members of BTS are fulfilling their mandatory military service, a requirement for South Korean men. This significant development had initially saddened many fans, yet it is a crucial part of their national duties. All members are expected to reunite by June 2025 and resume group activities.\\n\\n3. **Solo Projects and Appearances:**\\n   Even during their hiatus, BTS members have remained active individually. Jimin was a guest on Suga\\'s talk show to promote his solo album, \"FACE,\" marking one of the notable occurrences within the group\\'s activities this year. Additionally, members have been involved in various solo endeavors, continuing to engage their global fanbase.\\n\\n4. **Group Unity:**\\n   Despite the opportunities to pursue individual acting or solo music careers, BTS decided to stick together as a collective. This decision reflects their commitment to the band and challenges the typical trajectory of K-pop groups where members often branch into individual careers over time.\\n\\n5. **Cultural and Social Impact:**\\n   BTS has maintained a strong cultural and social presence, partially attributed to their strategic engagements and projects that keep fans connected to their music and message, even during their enforced hiatus.\\n\\nIn conclusion, 2023 has been a year of reflection and strategic patience for BTS and their fans. While the military service has momentarily paused their group activities, the band\\'s influence and the anticipation for their return remain as strong as ever. Their ability to stay relevant and impactful without regular performances showcases their unique position within the global music landscape.', additional_kwargs={}, response_metadata={}, name='Researcher')]}}\n",
      "----\n",
      "{'supervisor': {'next': 'FINISH'}}\n",
      "----\n"
     ]
    }
   ],
   "source": [
    "for s in graph.stream(\n",
    "    {\"messages\":[HumanMessage(content=\"Write a brief research report on BTS\")]},\n",
    "    {\"recursion_limit\":10}\n",
    "):\n",
    "    if \"__end__\" not in s:\n",
    "        print(s)\n",
    "        print(\"----\")"
   ]
  },
  {
   "cell_type": "code",
   "execution_count": 12,
   "metadata": {},
   "outputs": [
    {
     "name": "stdout",
     "output_type": "stream",
     "text": [
      "{'supervisor': {'next': 'Researcher'}}\n",
      "----\n",
      "{'Researcher': {'messages': [HumanMessage(content=\"세븐틴(SEVENTEEN)은 플레디스 엔터테인먼트 소속의 13인조 남자 그룹으로, 2015년 5월 26일에 미니 앨범 '17 Carat'으로 데뷔했습니다. 이들은 해외에서도 큰 인기를 얻고 있는 다국적 그룹입니다.\\n\\n세븐틴은 보컬, 힙합, 퍼포먼스 세 개의 유닛으로 구성되어 있습니다. 보컬 팀에는 정한, 조슈아, 우지, 도겸, 승관이 있으며, 힙합 팀에는 에스쿱스, 원우, 민규, 버논이, 퍼포먼스 팀에는 준, 호시, 디에잇, 디노가 속해 있습니다.\\n\\n세븐틴은 자주 '자체 제작 아이돌'로 불리며, 멤버들이 직접 음악 제작 및 퍼포먼스 연출에 참여하는 것으로 유명합니다. 현재 세븐틴은 전 세계적인 인기를 자랑하며, 특히 스포티파이와 같은 플랫폼에서 높은 청취 수를 기록하고 있습니다. 이들의 최신 미니 앨범은 일본에서 가장 인기 있는 K팝 앨범 중 하나로 꼽히고 있습니다.\", additional_kwargs={}, response_metadata={}, name='Researcher')]}}\n",
      "----\n",
      "{'supervisor': {'next': 'FINISH'}}\n",
      "----\n"
     ]
    }
   ],
   "source": [
    "for s in graph.stream(\n",
    "    {\"messages\":[HumanMessage(content=\"그룹 세븐틴에 대한 간략한 리포트를 한글로 작성해주세요.\")]},\n",
    "    {\"recursion_limit\":10}\n",
    "):\n",
    "    if \"__end__\" not in s:\n",
    "        print(s)\n",
    "        print(\"----\")"
   ]
  }
 ],
 "metadata": {
  "kernelspec": {
   "display_name": "multiagent_test",
   "language": "python",
   "name": "python3"
  },
  "language_info": {
   "codemirror_mode": {
    "name": "ipython",
    "version": 3
   },
   "file_extension": ".py",
   "mimetype": "text/x-python",
   "name": "python",
   "nbconvert_exporter": "python",
   "pygments_lexer": "ipython3",
   "version": "3.12.8"
  }
 },
 "nbformat": 4,
 "nbformat_minor": 2
}
